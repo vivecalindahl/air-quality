{
 "cells": [
  {
   "cell_type": "markdown",
   "id": "435832d9-400c-4395-8068-c0137dc8411e",
   "metadata": {},
   "source": [
    "# About\n",
    "Explore timeseries and Pandas `datetime` format.\n",
    "\n",
    "## References\n",
    "- Pandas timeseries intro: https://pandas.pydata.org/pandas-docs/stable/getting_started/intro_tutorials/09_timeseries.html\n",
    "- Pandas timeseries userguide: https://pandas.pydata.org/pandas-docs/stable/user_guide/timeseries.html#timeseries-overview\n",
    "- Data source: https://github.com/pandas-dev/pandas/blob/master/doc/data/air_quality_no2_long.csv"
   ]
  },
  {
   "cell_type": "markdown",
   "id": "8ee829e9-9898-49bb-852d-f7afa1be64c4",
   "metadata": {},
   "source": [
    "# Basic imports"
   ]
  },
  {
   "cell_type": "code",
   "execution_count": 53,
   "id": "851aa3a6-b3d0-4e42-829f-4cd127ecfccf",
   "metadata": {},
   "outputs": [],
   "source": [
    "# General\n",
    "import os\n",
    "import sys\n",
    "from tqdm import tqdm\n",
    "from time import time\n",
    "\n",
    "import pandas as pd\n",
    "import numpy as np\n",
    "\n",
    "import matplotlib.pyplot as plt\n",
    "import seaborn as sns\n",
    "\n",
    "import sklearn"
   ]
  },
  {
   "cell_type": "code",
   "execution_count": 56,
   "id": "2452e12e-ea30-4dad-9c85-f679fb594e2e",
   "metadata": {},
   "outputs": [],
   "source": [
    "import datetime"
   ]
  },
  {
   "cell_type": "code",
   "execution_count": 2,
   "id": "6edb99ba-67fe-425b-a8ab-c9a18fbed3d1",
   "metadata": {},
   "outputs": [],
   "source": [
    "sns.set_style(\"whitegrid\")"
   ]
  },
  {
   "cell_type": "markdown",
   "id": "97f10858-df89-4645-948e-a0d26d24f12d",
   "metadata": {},
   "source": [
    "# Load and prep dataset"
   ]
  },
  {
   "cell_type": "code",
   "execution_count": 69,
   "id": "be51bb19-5c7f-49a6-b8bb-c3e2fd02de1e",
   "metadata": {},
   "outputs": [],
   "source": [
    "df_raw = pd.read_csv(\"./air_quality_no2_long.csv\")"
   ]
  },
  {
   "cell_type": "code",
   "execution_count": 70,
   "id": "fb5b887b-8487-4cf1-b1c1-7ef540161a46",
   "metadata": {},
   "outputs": [
    {
     "data": {
      "text/html": [
       "<div>\n",
       "<style scoped>\n",
       "    .dataframe tbody tr th:only-of-type {\n",
       "        vertical-align: middle;\n",
       "    }\n",
       "\n",
       "    .dataframe tbody tr th {\n",
       "        vertical-align: top;\n",
       "    }\n",
       "\n",
       "    .dataframe thead th {\n",
       "        text-align: right;\n",
       "    }\n",
       "</style>\n",
       "<table border=\"1\" class=\"dataframe\">\n",
       "  <thead>\n",
       "    <tr style=\"text-align: right;\">\n",
       "      <th></th>\n",
       "      <th>city</th>\n",
       "      <th>country</th>\n",
       "      <th>date.utc</th>\n",
       "      <th>location</th>\n",
       "      <th>parameter</th>\n",
       "      <th>value</th>\n",
       "      <th>unit</th>\n",
       "    </tr>\n",
       "  </thead>\n",
       "  <tbody>\n",
       "    <tr>\n",
       "      <th>0</th>\n",
       "      <td>Paris</td>\n",
       "      <td>FR</td>\n",
       "      <td>2019-06-21 00:00:00+00:00</td>\n",
       "      <td>FR04014</td>\n",
       "      <td>no2</td>\n",
       "      <td>20.0</td>\n",
       "      <td>µg/m³</td>\n",
       "    </tr>\n",
       "    <tr>\n",
       "      <th>1</th>\n",
       "      <td>Paris</td>\n",
       "      <td>FR</td>\n",
       "      <td>2019-06-20 23:00:00+00:00</td>\n",
       "      <td>FR04014</td>\n",
       "      <td>no2</td>\n",
       "      <td>21.8</td>\n",
       "      <td>µg/m³</td>\n",
       "    </tr>\n",
       "    <tr>\n",
       "      <th>2</th>\n",
       "      <td>Paris</td>\n",
       "      <td>FR</td>\n",
       "      <td>2019-06-20 22:00:00+00:00</td>\n",
       "      <td>FR04014</td>\n",
       "      <td>no2</td>\n",
       "      <td>26.5</td>\n",
       "      <td>µg/m³</td>\n",
       "    </tr>\n",
       "    <tr>\n",
       "      <th>3</th>\n",
       "      <td>Paris</td>\n",
       "      <td>FR</td>\n",
       "      <td>2019-06-20 21:00:00+00:00</td>\n",
       "      <td>FR04014</td>\n",
       "      <td>no2</td>\n",
       "      <td>24.9</td>\n",
       "      <td>µg/m³</td>\n",
       "    </tr>\n",
       "    <tr>\n",
       "      <th>4</th>\n",
       "      <td>Paris</td>\n",
       "      <td>FR</td>\n",
       "      <td>2019-06-20 20:00:00+00:00</td>\n",
       "      <td>FR04014</td>\n",
       "      <td>no2</td>\n",
       "      <td>21.4</td>\n",
       "      <td>µg/m³</td>\n",
       "    </tr>\n",
       "    <tr>\n",
       "      <th>...</th>\n",
       "      <td>...</td>\n",
       "      <td>...</td>\n",
       "      <td>...</td>\n",
       "      <td>...</td>\n",
       "      <td>...</td>\n",
       "      <td>...</td>\n",
       "      <td>...</td>\n",
       "    </tr>\n",
       "    <tr>\n",
       "      <th>2063</th>\n",
       "      <td>London</td>\n",
       "      <td>GB</td>\n",
       "      <td>2019-05-07 06:00:00+00:00</td>\n",
       "      <td>London Westminster</td>\n",
       "      <td>no2</td>\n",
       "      <td>26.0</td>\n",
       "      <td>µg/m³</td>\n",
       "    </tr>\n",
       "    <tr>\n",
       "      <th>2064</th>\n",
       "      <td>London</td>\n",
       "      <td>GB</td>\n",
       "      <td>2019-05-07 04:00:00+00:00</td>\n",
       "      <td>London Westminster</td>\n",
       "      <td>no2</td>\n",
       "      <td>16.0</td>\n",
       "      <td>µg/m³</td>\n",
       "    </tr>\n",
       "    <tr>\n",
       "      <th>2065</th>\n",
       "      <td>London</td>\n",
       "      <td>GB</td>\n",
       "      <td>2019-05-07 03:00:00+00:00</td>\n",
       "      <td>London Westminster</td>\n",
       "      <td>no2</td>\n",
       "      <td>19.0</td>\n",
       "      <td>µg/m³</td>\n",
       "    </tr>\n",
       "    <tr>\n",
       "      <th>2066</th>\n",
       "      <td>London</td>\n",
       "      <td>GB</td>\n",
       "      <td>2019-05-07 02:00:00+00:00</td>\n",
       "      <td>London Westminster</td>\n",
       "      <td>no2</td>\n",
       "      <td>19.0</td>\n",
       "      <td>µg/m³</td>\n",
       "    </tr>\n",
       "    <tr>\n",
       "      <th>2067</th>\n",
       "      <td>London</td>\n",
       "      <td>GB</td>\n",
       "      <td>2019-05-07 01:00:00+00:00</td>\n",
       "      <td>London Westminster</td>\n",
       "      <td>no2</td>\n",
       "      <td>23.0</td>\n",
       "      <td>µg/m³</td>\n",
       "    </tr>\n",
       "  </tbody>\n",
       "</table>\n",
       "<p>2068 rows × 7 columns</p>\n",
       "</div>"
      ],
      "text/plain": [
       "        city country                   date.utc            location parameter  \\\n",
       "0      Paris      FR  2019-06-21 00:00:00+00:00             FR04014       no2   \n",
       "1      Paris      FR  2019-06-20 23:00:00+00:00             FR04014       no2   \n",
       "2      Paris      FR  2019-06-20 22:00:00+00:00             FR04014       no2   \n",
       "3      Paris      FR  2019-06-20 21:00:00+00:00             FR04014       no2   \n",
       "4      Paris      FR  2019-06-20 20:00:00+00:00             FR04014       no2   \n",
       "...      ...     ...                        ...                 ...       ...   \n",
       "2063  London      GB  2019-05-07 06:00:00+00:00  London Westminster       no2   \n",
       "2064  London      GB  2019-05-07 04:00:00+00:00  London Westminster       no2   \n",
       "2065  London      GB  2019-05-07 03:00:00+00:00  London Westminster       no2   \n",
       "2066  London      GB  2019-05-07 02:00:00+00:00  London Westminster       no2   \n",
       "2067  London      GB  2019-05-07 01:00:00+00:00  London Westminster       no2   \n",
       "\n",
       "      value   unit  \n",
       "0      20.0  µg/m³  \n",
       "1      21.8  µg/m³  \n",
       "2      26.5  µg/m³  \n",
       "3      24.9  µg/m³  \n",
       "4      21.4  µg/m³  \n",
       "...     ...    ...  \n",
       "2063   26.0  µg/m³  \n",
       "2064   16.0  µg/m³  \n",
       "2065   19.0  µg/m³  \n",
       "2066   19.0  µg/m³  \n",
       "2067   23.0  µg/m³  \n",
       "\n",
       "[2068 rows x 7 columns]"
      ]
     },
     "execution_count": 70,
     "metadata": {},
     "output_type": "execute_result"
    }
   ],
   "source": [
    "df_raw"
   ]
  },
  {
   "cell_type": "code",
   "execution_count": 71,
   "id": "19c07350-4fee-4f3f-aab9-464a7d2f9e08",
   "metadata": {},
   "outputs": [],
   "source": [
    "df = df_raw.copy()"
   ]
  },
  {
   "cell_type": "markdown",
   "id": "3c9b357f-743b-4347-ab6d-dd231ffb1585",
   "metadata": {},
   "source": [
    "The dates are of `str` type. Change into `pandas` `datetime`."
   ]
  },
  {
   "cell_type": "code",
   "execution_count": 72,
   "id": "9f9a383a-6a50-419a-a3c2-cffa3183a996",
   "metadata": {},
   "outputs": [],
   "source": [
    "df = df.rename(columns={'date.utc': 'date'})"
   ]
  },
  {
   "cell_type": "code",
   "execution_count": 73,
   "id": "d1881ca6-b141-4f4e-9a4b-5c6b1465e3dd",
   "metadata": {},
   "outputs": [],
   "source": [
    "df.date = pd.to_datetime(df.date)"
   ]
  },
  {
   "cell_type": "code",
   "execution_count": 74,
   "id": "721dce94-f4fc-42bb-9407-5d4eea3ce487",
   "metadata": {},
   "outputs": [
    {
     "data": {
      "text/plain": [
       "datetime64[ns, UTC]"
      ]
     },
     "execution_count": 74,
     "metadata": {},
     "output_type": "execute_result"
    }
   ],
   "source": [
    "df.date.dtype"
   ]
  },
  {
   "cell_type": "markdown",
   "id": "05866375-7b26-4441-a686-8fdfa0a93ae8",
   "metadata": {},
   "source": [
    "# Examples of working with `datetime` series"
   ]
  },
  {
   "cell_type": "markdown",
   "id": "9e5a2976-fd1d-4673-9391-60c40f1a4284",
   "metadata": {},
   "source": [
    "## Get oldest, latest dates"
   ]
  },
  {
   "cell_type": "code",
   "execution_count": 75,
   "id": "936a10b3-6600-4c8c-a104-e8d190d9ab83",
   "metadata": {},
   "outputs": [
    {
     "data": {
      "text/plain": [
       "(Timestamp('2019-05-07 01:00:00+0000', tz='UTC'),\n",
       " Timestamp('2019-06-21 00:00:00+0000', tz='UTC'))"
      ]
     },
     "execution_count": 75,
     "metadata": {},
     "output_type": "execute_result"
    }
   ],
   "source": [
    "df.date.min(), df.date.max()"
   ]
  },
  {
   "cell_type": "markdown",
   "id": "83a62aaf-0761-4c86-87fc-e42a3fdaa13a",
   "metadata": {},
   "source": [
    "## Calculate difference between dates\n",
    "Differences are represented by `timedelta` objects"
   ]
  },
  {
   "cell_type": "code",
   "execution_count": 76,
   "id": "38f44ffa-e637-468b-9c7a-3c058f0cabb6",
   "metadata": {},
   "outputs": [
    {
     "data": {
      "text/plain": [
       "Timedelta('-45 days +01:00:00')"
      ]
     },
     "execution_count": 76,
     "metadata": {},
     "output_type": "execute_result"
    }
   ],
   "source": [
    "dt = df.date.min() -  df.date.max()\n",
    "dt"
   ]
  },
  {
   "cell_type": "code",
   "execution_count": 48,
   "id": "1c31bb81-3307-48f9-a714-b46f92b55276",
   "metadata": {},
   "outputs": [
    {
     "data": {
      "text/plain": [
       "-45"
      ]
     },
     "execution_count": 48,
     "metadata": {},
     "output_type": "execute_result"
    }
   ],
   "source": [
    "dt.days"
   ]
  },
  {
   "cell_type": "code",
   "execution_count": 78,
   "id": "e8ce87a3-6551-4cd4-9544-e9652d9638ed",
   "metadata": {},
   "outputs": [
    {
     "data": {
      "text/plain": [
       "0                    NaT\n",
       "1      -1 days +23:00:00\n",
       "2      -1 days +23:00:00\n",
       "3      -1 days +23:00:00\n",
       "4      -1 days +23:00:00\n",
       "              ...       \n",
       "2063   -1 days +23:00:00\n",
       "2064   -1 days +22:00:00\n",
       "2065   -1 days +23:00:00\n",
       "2066   -1 days +23:00:00\n",
       "2067   -1 days +23:00:00\n",
       "Name: date, Length: 2068, dtype: timedelta64[ns]"
      ]
     },
     "execution_count": 78,
     "metadata": {},
     "output_type": "execute_result"
    }
   ],
   "source": [
    "df.date.diff()"
   ]
  },
  {
   "cell_type": "markdown",
   "id": "52334516-597e-4ab1-b010-3cb49aa05bd5",
   "metadata": {},
   "source": [
    "Manually shift by a day:"
   ]
  },
  {
   "cell_type": "code",
   "execution_count": 79,
   "id": "33dc9b10-6f95-4ce5-9ba9-1581840b8494",
   "metadata": {},
   "outputs": [
    {
     "data": {
      "text/plain": [
       "0      2019-06-22 00:00:00+00:00\n",
       "1      2019-06-21 23:00:00+00:00\n",
       "2      2019-06-21 22:00:00+00:00\n",
       "3      2019-06-21 21:00:00+00:00\n",
       "4      2019-06-21 20:00:00+00:00\n",
       "                  ...           \n",
       "2063   2019-05-08 06:00:00+00:00\n",
       "2064   2019-05-08 04:00:00+00:00\n",
       "2065   2019-05-08 03:00:00+00:00\n",
       "2066   2019-05-08 02:00:00+00:00\n",
       "2067   2019-05-08 01:00:00+00:00\n",
       "Name: date, Length: 2068, dtype: datetime64[ns, UTC]"
      ]
     },
     "execution_count": 79,
     "metadata": {},
     "output_type": "execute_result"
    }
   ],
   "source": [
    "df.date + pd.Timedelta(\"1 day\")"
   ]
  },
  {
   "cell_type": "markdown",
   "id": "902bd17d-ad83-4314-9b32-316440bb3bc2",
   "metadata": {},
   "source": [
    "Can also use `datetime`s function:"
   ]
  },
  {
   "cell_type": "code",
   "execution_count": 80,
   "id": "3cb4aafc-0c80-4d47-b00c-88ed7bde8b66",
   "metadata": {},
   "outputs": [
    {
     "data": {
      "text/plain": [
       "0      2019-06-22 00:00:00+00:00\n",
       "1      2019-06-21 23:00:00+00:00\n",
       "2      2019-06-21 22:00:00+00:00\n",
       "3      2019-06-21 21:00:00+00:00\n",
       "4      2019-06-21 20:00:00+00:00\n",
       "                  ...           \n",
       "2063   2019-05-08 06:00:00+00:00\n",
       "2064   2019-05-08 04:00:00+00:00\n",
       "2065   2019-05-08 03:00:00+00:00\n",
       "2066   2019-05-08 02:00:00+00:00\n",
       "2067   2019-05-08 01:00:00+00:00\n",
       "Name: date, Length: 2068, dtype: datetime64[ns, UTC]"
      ]
     },
     "execution_count": 80,
     "metadata": {},
     "output_type": "execute_result"
    }
   ],
   "source": [
    "df.date + datetime.timedelta(1)"
   ]
  },
  {
   "cell_type": "markdown",
   "id": "4e7af4b3-48dd-489f-aaa9-83f7ca33a159",
   "metadata": {},
   "source": [
    "## Access by month, day, quarter, etc."
   ]
  },
  {
   "cell_type": "markdown",
   "id": "fd82d54f-e77d-4cde-983d-7bb2eb8e82a2",
   "metadata": {},
   "source": [
    "A `datetime` series as a properties object stored in the attribute `dt`"
   ]
  },
  {
   "cell_type": "code",
   "execution_count": 96,
   "id": "5af54e37-2f02-47a9-a43f-6dcecd13c4c3",
   "metadata": {},
   "outputs": [
    {
     "data": {
      "text/plain": [
       "<pandas.core.indexes.accessors.DatetimeProperties object at 0x13a710fa0>"
      ]
     },
     "execution_count": 96,
     "metadata": {},
     "output_type": "execute_result"
    }
   ],
   "source": [
    "df.date.dt"
   ]
  },
  {
   "cell_type": "code",
   "execution_count": 95,
   "id": "fa399c2f-b8c2-4562-802e-2ecd0e574b4c",
   "metadata": {},
   "outputs": [
    {
     "data": {
      "text/plain": [
       "['ceil',\n",
       " 'date',\n",
       " 'day',\n",
       " 'day_name',\n",
       " 'day_of_week',\n",
       " 'day_of_year',\n",
       " 'dayofweek',\n",
       " 'dayofyear',\n",
       " 'days_in_month',\n",
       " 'daysinmonth',\n",
       " 'floor',\n",
       " 'freq',\n",
       " 'hour',\n",
       " 'is_leap_year',\n",
       " 'is_month_end',\n",
       " 'is_month_start',\n",
       " 'is_quarter_end',\n",
       " 'is_quarter_start',\n",
       " 'is_year_end',\n",
       " 'is_year_start',\n",
       " 'isocalendar',\n",
       " 'microsecond',\n",
       " 'minute',\n",
       " 'month',\n",
       " 'month_name',\n",
       " 'nanosecond',\n",
       " 'normalize',\n",
       " 'quarter',\n",
       " 'round',\n",
       " 'second',\n",
       " 'strftime',\n",
       " 'time',\n",
       " 'timetz',\n",
       " 'to_period',\n",
       " 'to_pydatetime',\n",
       " 'tz',\n",
       " 'tz_convert',\n",
       " 'tz_localize',\n",
       " 'week',\n",
       " 'weekday',\n",
       " 'weekofyear',\n",
       " 'year']"
      ]
     },
     "execution_count": 95,
     "metadata": {},
     "output_type": "execute_result"
    }
   ],
   "source": [
    "[attr for attr in dir(df.date.dt) if not attr.startswith(\"_\") and not attr.endswith(\"_\")]"
   ]
  },
  {
   "cell_type": "code",
   "execution_count": 103,
   "id": "8a2dc52c-9222-4929-832e-282a29f69c58",
   "metadata": {},
   "outputs": [
    {
     "data": {
      "text/plain": [
       "0       2\n",
       "1       2\n",
       "2       2\n",
       "3       2\n",
       "4       2\n",
       "       ..\n",
       "2063    2\n",
       "2064    2\n",
       "2065    2\n",
       "2066    2\n",
       "2067    2\n",
       "Name: date, Length: 2068, dtype: int64"
      ]
     },
     "execution_count": 103,
     "metadata": {},
     "output_type": "execute_result"
    }
   ],
   "source": [
    "df.date.dt.quarter"
   ]
  },
  {
   "cell_type": "markdown",
   "id": "186c9bd9-3656-40b7-a9dd-bbda8b04edbc",
   "metadata": {},
   "source": [
    "* Plot data as a function of the hour:"
   ]
  },
  {
   "cell_type": "code",
   "execution_count": 157,
   "id": "2e635093-41a4-4ea5-b44d-7464aaaf3cd4",
   "metadata": {},
   "outputs": [],
   "source": [
    "df['hour'] = df.date.dt.hour"
   ]
  },
  {
   "cell_type": "code",
   "execution_count": 169,
   "id": "58df7961-180d-4b6b-bb1f-1eae445e4c53",
   "metadata": {},
   "outputs": [
    {
     "data": {
      "image/png": "[encoded data removed]",
      "text/plain": [
       "<Figure size 432x288 with 1 Axes>"
      ]
     },
     "metadata": {},
     "output_type": "display_data"
    }
   ],
   "source": [
    "ax = sns.barplot(data=df.query('hour > 7 and hour < 19'), x='hour', y='value', color='C0')\n",
    "ax.set_title(\"Daytime pollution\");"
   ]
  },
  {
   "cell_type": "markdown",
   "id": "098b98d6-b532-41b4-b07a-46abd2a258b9",
   "metadata": {},
   "source": [
    "## Aggregate per month, day, etc.\n",
    "For instance say we want to calculate value statistics per week for each location."
   ]
  },
  {
   "cell_type": "code",
   "execution_count": 155,
   "id": "961ac1ad-9c11-4d84-926f-6b5b7067a61d",
   "metadata": {},
   "outputs": [
    {
     "data": {
      "text/html": [
       "<div>\n",
       "<style scoped>\n",
       "    .dataframe tbody tr th:only-of-type {\n",
       "        vertical-align: middle;\n",
       "    }\n",
       "\n",
       "    .dataframe tbody tr th {\n",
       "        vertical-align: top;\n",
       "    }\n",
       "\n",
       "    .dataframe thead th {\n",
       "        text-align: right;\n",
       "    }\n",
       "</style>\n",
       "<table border=\"1\" class=\"dataframe\">\n",
       "  <thead>\n",
       "    <tr style=\"text-align: right;\">\n",
       "      <th></th>\n",
       "      <th></th>\n",
       "      <th>count</th>\n",
       "      <th>mean</th>\n",
       "      <th>std</th>\n",
       "      <th>min</th>\n",
       "      <th>25%</th>\n",
       "      <th>50%</th>\n",
       "      <th>75%</th>\n",
       "      <th>max</th>\n",
       "    </tr>\n",
       "    <tr>\n",
       "      <th>week</th>\n",
       "      <th>location</th>\n",
       "      <th></th>\n",
       "      <th></th>\n",
       "      <th></th>\n",
       "      <th></th>\n",
       "      <th></th>\n",
       "      <th></th>\n",
       "      <th></th>\n",
       "      <th></th>\n",
       "    </tr>\n",
       "  </thead>\n",
       "  <tbody>\n",
       "    <tr>\n",
       "      <th rowspan=\"3\" valign=\"top\">19</th>\n",
       "      <th>BETR801</th>\n",
       "      <td>12.0</td>\n",
       "      <td>23.875000</td>\n",
       "      <td>12.047491</td>\n",
       "      <td>10.5</td>\n",
       "      <td>19.375</td>\n",
       "      <td>20.50</td>\n",
       "      <td>23.875</td>\n",
       "      <td>50.5</td>\n",
       "    </tr>\n",
       "    <tr>\n",
       "      <th>FR04014</th>\n",
       "      <td>140.0</td>\n",
       "      <td>27.393571</td>\n",
       "      <td>13.330315</td>\n",
       "      <td>8.7</td>\n",
       "      <td>17.950</td>\n",
       "      <td>25.25</td>\n",
       "      <td>33.925</td>\n",
       "      <td>77.7</td>\n",
       "    </tr>\n",
       "    <tr>\n",
       "      <th>London Westminster</th>\n",
       "      <td>134.0</td>\n",
       "      <td>31.067164</td>\n",
       "      <td>11.778148</td>\n",
       "      <td>16.0</td>\n",
       "      <td>24.000</td>\n",
       "      <td>29.00</td>\n",
       "      <td>34.750</td>\n",
       "      <td>97.0</td>\n",
       "    </tr>\n",
       "    <tr>\n",
       "      <th rowspan=\"3\" valign=\"top\">20</th>\n",
       "      <th>BETR801</th>\n",
       "      <td>38.0</td>\n",
       "      <td>23.118421</td>\n",
       "      <td>8.373409</td>\n",
       "      <td>11.5</td>\n",
       "      <td>16.125</td>\n",
       "      <td>21.75</td>\n",
       "      <td>29.125</td>\n",
       "      <td>41.5</td>\n",
       "    </tr>\n",
       "    <tr>\n",
       "      <th>FR04014</th>\n",
       "      <td>167.0</td>\n",
       "      <td>26.359281</td>\n",
       "      <td>13.239099</td>\n",
       "      <td>0.0</td>\n",
       "      <td>16.000</td>\n",
       "      <td>24.80</td>\n",
       "      <td>33.750</td>\n",
       "      <td>67.5</td>\n",
       "    </tr>\n",
       "    <tr>\n",
       "      <th>London Westminster</th>\n",
       "      <td>167.0</td>\n",
       "      <td>30.694611</td>\n",
       "      <td>5.860540</td>\n",
       "      <td>21.0</td>\n",
       "      <td>27.000</td>\n",
       "      <td>30.00</td>\n",
       "      <td>33.000</td>\n",
       "      <td>49.0</td>\n",
       "    </tr>\n",
       "    <tr>\n",
       "      <th rowspan=\"3\" valign=\"top\">21</th>\n",
       "      <th>BETR801</th>\n",
       "      <td>22.0</td>\n",
       "      <td>29.568182</td>\n",
       "      <td>16.041832</td>\n",
       "      <td>9.0</td>\n",
       "      <td>20.125</td>\n",
       "      <td>25.75</td>\n",
       "      <td>33.875</td>\n",
       "      <td>74.5</td>\n",
       "    </tr>\n",
       "    <tr>\n",
       "      <th>FR04014</th>\n",
       "      <td>165.0</td>\n",
       "      <td>33.716970</td>\n",
       "      <td>18.342861</td>\n",
       "      <td>10.3</td>\n",
       "      <td>19.500</td>\n",
       "      <td>28.60</td>\n",
       "      <td>43.000</td>\n",
       "      <td>97.0</td>\n",
       "    </tr>\n",
       "    <tr>\n",
       "      <th>London Westminster</th>\n",
       "      <td>167.0</td>\n",
       "      <td>30.287425</td>\n",
       "      <td>8.047376</td>\n",
       "      <td>15.0</td>\n",
       "      <td>25.000</td>\n",
       "      <td>29.00</td>\n",
       "      <td>33.500</td>\n",
       "      <td>60.0</td>\n",
       "    </tr>\n",
       "    <tr>\n",
       "      <th rowspan=\"3\" valign=\"top\">22</th>\n",
       "      <th>BETR801</th>\n",
       "      <td>6.0</td>\n",
       "      <td>18.583333</td>\n",
       "      <td>17.284145</td>\n",
       "      <td>7.5</td>\n",
       "      <td>9.375</td>\n",
       "      <td>10.75</td>\n",
       "      <td>18.500</td>\n",
       "      <td>52.5</td>\n",
       "    </tr>\n",
       "    <tr>\n",
       "      <th>FR04014</th>\n",
       "      <td>165.0</td>\n",
       "      <td>24.010303</td>\n",
       "      <td>14.134962</td>\n",
       "      <td>0.0</td>\n",
       "      <td>15.000</td>\n",
       "      <td>20.50</td>\n",
       "      <td>28.800</td>\n",
       "      <td>84.7</td>\n",
       "    </tr>\n",
       "    <tr>\n",
       "      <th>London Westminster</th>\n",
       "      <td>167.0</td>\n",
       "      <td>21.670659</td>\n",
       "      <td>11.004075</td>\n",
       "      <td>0.0</td>\n",
       "      <td>16.000</td>\n",
       "      <td>22.00</td>\n",
       "      <td>29.000</td>\n",
       "      <td>52.0</td>\n",
       "    </tr>\n",
       "    <tr>\n",
       "      <th rowspan=\"3\" valign=\"top\">23</th>\n",
       "      <th>BETR801</th>\n",
       "      <td>2.0</td>\n",
       "      <td>12.500000</td>\n",
       "      <td>3.535534</td>\n",
       "      <td>10.0</td>\n",
       "      <td>11.250</td>\n",
       "      <td>12.50</td>\n",
       "      <td>13.750</td>\n",
       "      <td>15.0</td>\n",
       "    </tr>\n",
       "    <tr>\n",
       "      <th>FR04014</th>\n",
       "      <td>151.0</td>\n",
       "      <td>26.730464</td>\n",
       "      <td>12.834817</td>\n",
       "      <td>7.2</td>\n",
       "      <td>15.650</td>\n",
       "      <td>25.00</td>\n",
       "      <td>36.700</td>\n",
       "      <td>59.0</td>\n",
       "    </tr>\n",
       "    <tr>\n",
       "      <th>London Westminster</th>\n",
       "      <td>163.0</td>\n",
       "      <td>15.484663</td>\n",
       "      <td>9.999602</td>\n",
       "      <td>0.0</td>\n",
       "      <td>7.000</td>\n",
       "      <td>17.00</td>\n",
       "      <td>22.000</td>\n",
       "      <td>40.0</td>\n",
       "    </tr>\n",
       "    <tr>\n",
       "      <th rowspan=\"3\" valign=\"top\">24</th>\n",
       "      <th>BETR801</th>\n",
       "      <td>7.0</td>\n",
       "      <td>24.571429</td>\n",
       "      <td>12.043077</td>\n",
       "      <td>7.5</td>\n",
       "      <td>18.000</td>\n",
       "      <td>21.00</td>\n",
       "      <td>32.500</td>\n",
       "      <td>42.5</td>\n",
       "    </tr>\n",
       "    <tr>\n",
       "      <th>FR04014</th>\n",
       "      <td>165.0</td>\n",
       "      <td>26.598182</td>\n",
       "      <td>16.045896</td>\n",
       "      <td>0.0</td>\n",
       "      <td>14.400</td>\n",
       "      <td>22.60</td>\n",
       "      <td>35.500</td>\n",
       "      <td>78.3</td>\n",
       "    </tr>\n",
       "    <tr>\n",
       "      <th>London Westminster</th>\n",
       "      <td>159.0</td>\n",
       "      <td>21.157233</td>\n",
       "      <td>9.679376</td>\n",
       "      <td>4.0</td>\n",
       "      <td>14.000</td>\n",
       "      <td>20.00</td>\n",
       "      <td>26.000</td>\n",
       "      <td>51.0</td>\n",
       "    </tr>\n",
       "    <tr>\n",
       "      <th rowspan=\"3\" valign=\"top\">25</th>\n",
       "      <th>BETR801</th>\n",
       "      <td>8.0</td>\n",
       "      <td>40.625000</td>\n",
       "      <td>3.420004</td>\n",
       "      <td>35.5</td>\n",
       "      <td>38.625</td>\n",
       "      <td>41.50</td>\n",
       "      <td>42.750</td>\n",
       "      <td>45.0</td>\n",
       "    </tr>\n",
       "    <tr>\n",
       "      <th>FR04014</th>\n",
       "      <td>51.0</td>\n",
       "      <td>32.635294</td>\n",
       "      <td>17.642107</td>\n",
       "      <td>9.6</td>\n",
       "      <td>19.150</td>\n",
       "      <td>26.50</td>\n",
       "      <td>49.350</td>\n",
       "      <td>73.3</td>\n",
       "    </tr>\n",
       "    <tr>\n",
       "      <th>London Westminster</th>\n",
       "      <td>12.0</td>\n",
       "      <td>12.916667</td>\n",
       "      <td>2.234373</td>\n",
       "      <td>11.0</td>\n",
       "      <td>11.000</td>\n",
       "      <td>12.50</td>\n",
       "      <td>14.000</td>\n",
       "      <td>17.0</td>\n",
       "    </tr>\n",
       "  </tbody>\n",
       "</table>\n",
       "</div>"
      ],
      "text/plain": [
       "                         count       mean        std   min     25%    50%  \\\n",
       "week location                                                               \n",
       "19   BETR801              12.0  23.875000  12.047491  10.5  19.375  20.50   \n",
       "     FR04014             140.0  27.393571  13.330315   8.7  17.950  25.25   \n",
       "     London Westminster  134.0  31.067164  11.778148  16.0  24.000  29.00   \n",
       "20   BETR801              38.0  23.118421   8.373409  11.5  16.125  21.75   \n",
       "     FR04014             167.0  26.359281  13.239099   0.0  16.000  24.80   \n",
       "     London Westminster  167.0  30.694611   5.860540  21.0  27.000  30.00   \n",
       "21   BETR801              22.0  29.568182  16.041832   9.0  20.125  25.75   \n",
       "     FR04014             165.0  33.716970  18.342861  10.3  19.500  28.60   \n",
       "     London Westminster  167.0  30.287425   8.047376  15.0  25.000  29.00   \n",
       "22   BETR801               6.0  18.583333  17.284145   7.5   9.375  10.75   \n",
       "     FR04014             165.0  24.010303  14.134962   0.0  15.000  20.50   \n",
       "     London Westminster  167.0  21.670659  11.004075   0.0  16.000  22.00   \n",
       "23   BETR801               2.0  12.500000   3.535534  10.0  11.250  12.50   \n",
       "     FR04014             151.0  26.730464  12.834817   7.2  15.650  25.00   \n",
       "     London Westminster  163.0  15.484663   9.999602   0.0   7.000  17.00   \n",
       "24   BETR801               7.0  24.571429  12.043077   7.5  18.000  21.00   \n",
       "     FR04014             165.0  26.598182  16.045896   0.0  14.400  22.60   \n",
       "     London Westminster  159.0  21.157233   9.679376   4.0  14.000  20.00   \n",
       "25   BETR801               8.0  40.625000   3.420004  35.5  38.625  41.50   \n",
       "     FR04014              51.0  32.635294  17.642107   9.6  19.150  26.50   \n",
       "     London Westminster   12.0  12.916667   2.234373  11.0  11.000  12.50   \n",
       "\n",
       "                            75%   max  \n",
       "week location                          \n",
       "19   BETR801             23.875  50.5  \n",
       "     FR04014             33.925  77.7  \n",
       "     London Westminster  34.750  97.0  \n",
       "20   BETR801             29.125  41.5  \n",
       "     FR04014             33.750  67.5  \n",
       "     London Westminster  33.000  49.0  \n",
       "21   BETR801             33.875  74.5  \n",
       "     FR04014             43.000  97.0  \n",
       "     London Westminster  33.500  60.0  \n",
       "22   BETR801             18.500  52.5  \n",
       "     FR04014             28.800  84.7  \n",
       "     London Westminster  29.000  52.0  \n",
       "23   BETR801             13.750  15.0  \n",
       "     FR04014             36.700  59.0  \n",
       "     London Westminster  22.000  40.0  \n",
       "24   BETR801             32.500  42.5  \n",
       "     FR04014             35.500  78.3  \n",
       "     London Westminster  26.000  51.0  \n",
       "25   BETR801             42.750  45.0  \n",
       "     FR04014             49.350  73.3  \n",
       "     London Westminster  14.000  17.0  "
      ]
     },
     "execution_count": 155,
     "metadata": {},
     "output_type": "execute_result"
    }
   ],
   "source": [
    "# groupby accepts a Series as input\n",
    "df.groupby(by=[df.date.dt.isocalendar().week, \"location\"]).value.describe()"
   ]
  },
  {
   "cell_type": "markdown",
   "id": "04eb45e7-8c87-4393-8a50-481017bd4ed6",
   "metadata": {},
   "source": [
    "To change the frequency of the date, the `resample` function can be used after making `datetime` the index (below). "
   ]
  },
  {
   "cell_type": "markdown",
   "id": "bbe82a66-b745-4ac5-9e2b-251abe48ac59",
   "metadata": {},
   "source": [
    "## Using `datetime` as index\n",
    "Note this may not work for non-unique timestamps."
   ]
  },
  {
   "cell_type": "code",
   "execution_count": 215,
   "id": "996bc297-430f-4bbe-886d-66803a60dedc",
   "metadata": {},
   "outputs": [
    {
     "data": {
      "text/html": [
       "<div>\n",
       "<style scoped>\n",
       "    .dataframe tbody tr th:only-of-type {\n",
       "        vertical-align: middle;\n",
       "    }\n",
       "\n",
       "    .dataframe tbody tr th {\n",
       "        vertical-align: top;\n",
       "    }\n",
       "\n",
       "    .dataframe thead th {\n",
       "        text-align: right;\n",
       "    }\n",
       "</style>\n",
       "<table border=\"1\" class=\"dataframe\">\n",
       "  <thead>\n",
       "    <tr style=\"text-align: right;\">\n",
       "      <th></th>\n",
       "      <th>city</th>\n",
       "      <th>country</th>\n",
       "      <th>location</th>\n",
       "      <th>parameter</th>\n",
       "      <th>value</th>\n",
       "      <th>unit</th>\n",
       "      <th>hour</th>\n",
       "    </tr>\n",
       "    <tr>\n",
       "      <th>date</th>\n",
       "      <th></th>\n",
       "      <th></th>\n",
       "      <th></th>\n",
       "      <th></th>\n",
       "      <th></th>\n",
       "      <th></th>\n",
       "      <th></th>\n",
       "    </tr>\n",
       "  </thead>\n",
       "  <tbody>\n",
       "    <tr>\n",
       "      <th>2019-06-21 00:00:00+00:00</th>\n",
       "      <td>Paris</td>\n",
       "      <td>FR</td>\n",
       "      <td>FR04014</td>\n",
       "      <td>no2</td>\n",
       "      <td>20.0</td>\n",
       "      <td>µg/m³</td>\n",
       "      <td>0</td>\n",
       "    </tr>\n",
       "    <tr>\n",
       "      <th>2019-06-20 23:00:00+00:00</th>\n",
       "      <td>Paris</td>\n",
       "      <td>FR</td>\n",
       "      <td>FR04014</td>\n",
       "      <td>no2</td>\n",
       "      <td>21.8</td>\n",
       "      <td>µg/m³</td>\n",
       "      <td>23</td>\n",
       "    </tr>\n",
       "    <tr>\n",
       "      <th>2019-06-20 22:00:00+00:00</th>\n",
       "      <td>Paris</td>\n",
       "      <td>FR</td>\n",
       "      <td>FR04014</td>\n",
       "      <td>no2</td>\n",
       "      <td>26.5</td>\n",
       "      <td>µg/m³</td>\n",
       "      <td>22</td>\n",
       "    </tr>\n",
       "    <tr>\n",
       "      <th>2019-06-20 21:00:00+00:00</th>\n",
       "      <td>Paris</td>\n",
       "      <td>FR</td>\n",
       "      <td>FR04014</td>\n",
       "      <td>no2</td>\n",
       "      <td>24.9</td>\n",
       "      <td>µg/m³</td>\n",
       "      <td>21</td>\n",
       "    </tr>\n",
       "    <tr>\n",
       "      <th>2019-06-20 20:00:00+00:00</th>\n",
       "      <td>Paris</td>\n",
       "      <td>FR</td>\n",
       "      <td>FR04014</td>\n",
       "      <td>no2</td>\n",
       "      <td>21.4</td>\n",
       "      <td>µg/m³</td>\n",
       "      <td>20</td>\n",
       "    </tr>\n",
       "    <tr>\n",
       "      <th>...</th>\n",
       "      <td>...</td>\n",
       "      <td>...</td>\n",
       "      <td>...</td>\n",
       "      <td>...</td>\n",
       "      <td>...</td>\n",
       "      <td>...</td>\n",
       "      <td>...</td>\n",
       "    </tr>\n",
       "    <tr>\n",
       "      <th>2019-05-07 06:00:00+00:00</th>\n",
       "      <td>London</td>\n",
       "      <td>GB</td>\n",
       "      <td>London Westminster</td>\n",
       "      <td>no2</td>\n",
       "      <td>26.0</td>\n",
       "      <td>µg/m³</td>\n",
       "      <td>6</td>\n",
       "    </tr>\n",
       "    <tr>\n",
       "      <th>2019-05-07 04:00:00+00:00</th>\n",
       "      <td>London</td>\n",
       "      <td>GB</td>\n",
       "      <td>London Westminster</td>\n",
       "      <td>no2</td>\n",
       "      <td>16.0</td>\n",
       "      <td>µg/m³</td>\n",
       "      <td>4</td>\n",
       "    </tr>\n",
       "    <tr>\n",
       "      <th>2019-05-07 03:00:00+00:00</th>\n",
       "      <td>London</td>\n",
       "      <td>GB</td>\n",
       "      <td>London Westminster</td>\n",
       "      <td>no2</td>\n",
       "      <td>19.0</td>\n",
       "      <td>µg/m³</td>\n",
       "      <td>3</td>\n",
       "    </tr>\n",
       "    <tr>\n",
       "      <th>2019-05-07 02:00:00+00:00</th>\n",
       "      <td>London</td>\n",
       "      <td>GB</td>\n",
       "      <td>London Westminster</td>\n",
       "      <td>no2</td>\n",
       "      <td>19.0</td>\n",
       "      <td>µg/m³</td>\n",
       "      <td>2</td>\n",
       "    </tr>\n",
       "    <tr>\n",
       "      <th>2019-05-07 01:00:00+00:00</th>\n",
       "      <td>London</td>\n",
       "      <td>GB</td>\n",
       "      <td>London Westminster</td>\n",
       "      <td>no2</td>\n",
       "      <td>23.0</td>\n",
       "      <td>µg/m³</td>\n",
       "      <td>1</td>\n",
       "    </tr>\n",
       "  </tbody>\n",
       "</table>\n",
       "<p>2068 rows × 7 columns</p>\n",
       "</div>"
      ],
      "text/plain": [
       "                             city country            location parameter  \\\n",
       "date                                                                      \n",
       "2019-06-21 00:00:00+00:00   Paris      FR             FR04014       no2   \n",
       "2019-06-20 23:00:00+00:00   Paris      FR             FR04014       no2   \n",
       "2019-06-20 22:00:00+00:00   Paris      FR             FR04014       no2   \n",
       "2019-06-20 21:00:00+00:00   Paris      FR             FR04014       no2   \n",
       "2019-06-20 20:00:00+00:00   Paris      FR             FR04014       no2   \n",
       "...                           ...     ...                 ...       ...   \n",
       "2019-05-07 06:00:00+00:00  London      GB  London Westminster       no2   \n",
       "2019-05-07 04:00:00+00:00  London      GB  London Westminster       no2   \n",
       "2019-05-07 03:00:00+00:00  London      GB  London Westminster       no2   \n",
       "2019-05-07 02:00:00+00:00  London      GB  London Westminster       no2   \n",
       "2019-05-07 01:00:00+00:00  London      GB  London Westminster       no2   \n",
       "\n",
       "                           value   unit  hour  \n",
       "date                                           \n",
       "2019-06-21 00:00:00+00:00   20.0  µg/m³     0  \n",
       "2019-06-20 23:00:00+00:00   21.8  µg/m³    23  \n",
       "2019-06-20 22:00:00+00:00   26.5  µg/m³    22  \n",
       "2019-06-20 21:00:00+00:00   24.9  µg/m³    21  \n",
       "2019-06-20 20:00:00+00:00   21.4  µg/m³    20  \n",
       "...                          ...    ...   ...  \n",
       "2019-05-07 06:00:00+00:00   26.0  µg/m³     6  \n",
       "2019-05-07 04:00:00+00:00   16.0  µg/m³     4  \n",
       "2019-05-07 03:00:00+00:00   19.0  µg/m³     3  \n",
       "2019-05-07 02:00:00+00:00   19.0  µg/m³     2  \n",
       "2019-05-07 01:00:00+00:00   23.0  µg/m³     1  \n",
       "\n",
       "[2068 rows x 7 columns]"
      ]
     },
     "execution_count": 215,
     "metadata": {},
     "output_type": "execute_result"
    }
   ],
   "source": [
    "df_dated = df.set_index('date')\n",
    "df_dated"
   ]
  },
  {
   "cell_type": "markdown",
   "id": "16532cf7-c6a2-4c63-bb1c-13fea576016f",
   "metadata": {},
   "source": [
    "Note: above the index was not sorted which leads to issues when trying use timespace slicing (below)."
   ]
  },
  {
   "cell_type": "code",
   "execution_count": 216,
   "id": "a214b334-a059-499e-a689-a09779bad6df",
   "metadata": {},
   "outputs": [
    {
     "data": {
      "text/plain": [
       "Int64Index([ 0, 23, 22, 21, 20, 19, 18, 17, 16, 15,\n",
       "            ...\n",
       "            11, 10,  9,  8,  7,  6,  4,  3,  2,  1],\n",
       "           dtype='int64', name='date', length=2068)"
      ]
     },
     "execution_count": 216,
     "metadata": {},
     "output_type": "execute_result"
    }
   ],
   "source": [
    "# Now access the datetime properties directly via the index\n",
    "df_dated.index.hour"
   ]
  },
  {
   "cell_type": "code",
   "execution_count": 217,
   "id": "79cb3198-ab9c-4b48-9052-7425c9410be4",
   "metadata": {},
   "outputs": [
    {
     "data": {
      "text/plain": [
       "<AxesSubplot:xlabel='date'>"
      ]
     },
     "execution_count": 217,
     "metadata": {},
     "output_type": "execute_result"
    },
    {
     "data": {
      "image/png": "[encoded data removed]",
      "text/plain": [
       "<Figure size 432x288 with 1 Axes>"
      ]
     },
     "metadata": {},
     "output_type": "display_data"
    }
   ],
   "source": [
    "# Pandas plots will pick up the index\n",
    "df_dated['value'].plot()"
   ]
  },
  {
   "cell_type": "code",
   "execution_count": 222,
   "id": "67100002-cf1f-4c7f-8d41-9bb41a97cd25",
   "metadata": {},
   "outputs": [],
   "source": [
    "# Slicing can be used to select a time-interval\n",
    "df_dated = df_dated.sort_index()"
   ]
  },
  {
   "cell_type": "code",
   "execution_count": 228,
   "id": "b4043705-8373-49e4-b72d-3a621d535932",
   "metadata": {},
   "outputs": [
    {
     "data": {
      "text/html": [
       "<div>\n",
       "<style scoped>\n",
       "    .dataframe tbody tr th:only-of-type {\n",
       "        vertical-align: middle;\n",
       "    }\n",
       "\n",
       "    .dataframe tbody tr th {\n",
       "        vertical-align: top;\n",
       "    }\n",
       "\n",
       "    .dataframe thead th {\n",
       "        text-align: right;\n",
       "    }\n",
       "</style>\n",
       "<table border=\"1\" class=\"dataframe\">\n",
       "  <thead>\n",
       "    <tr style=\"text-align: right;\">\n",
       "      <th></th>\n",
       "      <th>city</th>\n",
       "      <th>country</th>\n",
       "      <th>location</th>\n",
       "      <th>parameter</th>\n",
       "      <th>value</th>\n",
       "      <th>unit</th>\n",
       "      <th>hour</th>\n",
       "    </tr>\n",
       "    <tr>\n",
       "      <th>date</th>\n",
       "      <th></th>\n",
       "      <th></th>\n",
       "      <th></th>\n",
       "      <th></th>\n",
       "      <th></th>\n",
       "      <th></th>\n",
       "      <th></th>\n",
       "    </tr>\n",
       "  </thead>\n",
       "  <tbody>\n",
       "    <tr>\n",
       "      <th>2019-05-15 00:00:00+00:00</th>\n",
       "      <td>London</td>\n",
       "      <td>GB</td>\n",
       "      <td>London Westminster</td>\n",
       "      <td>no2</td>\n",
       "      <td>22.0</td>\n",
       "      <td>µg/m³</td>\n",
       "      <td>0</td>\n",
       "    </tr>\n",
       "    <tr>\n",
       "      <th>2019-05-15 00:00:00+00:00</th>\n",
       "      <td>Paris</td>\n",
       "      <td>FR</td>\n",
       "      <td>FR04014</td>\n",
       "      <td>no2</td>\n",
       "      <td>18.8</td>\n",
       "      <td>µg/m³</td>\n",
       "      <td>0</td>\n",
       "    </tr>\n",
       "    <tr>\n",
       "      <th>2019-05-15 01:00:00+00:00</th>\n",
       "      <td>Antwerpen</td>\n",
       "      <td>BE</td>\n",
       "      <td>BETR801</td>\n",
       "      <td>no2</td>\n",
       "      <td>25.5</td>\n",
       "      <td>µg/m³</td>\n",
       "      <td>1</td>\n",
       "    </tr>\n",
       "    <tr>\n",
       "      <th>2019-05-15 01:00:00+00:00</th>\n",
       "      <td>Paris</td>\n",
       "      <td>FR</td>\n",
       "      <td>FR04014</td>\n",
       "      <td>no2</td>\n",
       "      <td>17.2</td>\n",
       "      <td>µg/m³</td>\n",
       "      <td>1</td>\n",
       "    </tr>\n",
       "    <tr>\n",
       "      <th>2019-05-15 02:00:00+00:00</th>\n",
       "      <td>London</td>\n",
       "      <td>GB</td>\n",
       "      <td>London Westminster</td>\n",
       "      <td>no2</td>\n",
       "      <td>22.0</td>\n",
       "      <td>µg/m³</td>\n",
       "      <td>2</td>\n",
       "    </tr>\n",
       "    <tr>\n",
       "      <th>...</th>\n",
       "      <td>...</td>\n",
       "      <td>...</td>\n",
       "      <td>...</td>\n",
       "      <td>...</td>\n",
       "      <td>...</td>\n",
       "      <td>...</td>\n",
       "      <td>...</td>\n",
       "    </tr>\n",
       "    <tr>\n",
       "      <th>2019-06-01 21:00:00+00:00</th>\n",
       "      <td>Paris</td>\n",
       "      <td>FR</td>\n",
       "      <td>FR04014</td>\n",
       "      <td>no2</td>\n",
       "      <td>49.4</td>\n",
       "      <td>µg/m³</td>\n",
       "      <td>21</td>\n",
       "    </tr>\n",
       "    <tr>\n",
       "      <th>2019-06-01 22:00:00+00:00</th>\n",
       "      <td>Paris</td>\n",
       "      <td>FR</td>\n",
       "      <td>FR04014</td>\n",
       "      <td>no2</td>\n",
       "      <td>48.1</td>\n",
       "      <td>µg/m³</td>\n",
       "      <td>22</td>\n",
       "    </tr>\n",
       "    <tr>\n",
       "      <th>2019-06-01 22:00:00+00:00</th>\n",
       "      <td>London</td>\n",
       "      <td>GB</td>\n",
       "      <td>London Westminster</td>\n",
       "      <td>no2</td>\n",
       "      <td>52.0</td>\n",
       "      <td>µg/m³</td>\n",
       "      <td>22</td>\n",
       "    </tr>\n",
       "    <tr>\n",
       "      <th>2019-06-01 23:00:00+00:00</th>\n",
       "      <td>London</td>\n",
       "      <td>GB</td>\n",
       "      <td>London Westminster</td>\n",
       "      <td>no2</td>\n",
       "      <td>52.0</td>\n",
       "      <td>µg/m³</td>\n",
       "      <td>23</td>\n",
       "    </tr>\n",
       "    <tr>\n",
       "      <th>2019-06-01 23:00:00+00:00</th>\n",
       "      <td>Paris</td>\n",
       "      <td>FR</td>\n",
       "      <td>FR04014</td>\n",
       "      <td>no2</td>\n",
       "      <td>32.7</td>\n",
       "      <td>µg/m³</td>\n",
       "      <td>23</td>\n",
       "    </tr>\n",
       "  </tbody>\n",
       "</table>\n",
       "<p>916 rows × 7 columns</p>\n",
       "</div>"
      ],
      "text/plain": [
       "                                city country            location parameter  \\\n",
       "date                                                                         \n",
       "2019-05-15 00:00:00+00:00     London      GB  London Westminster       no2   \n",
       "2019-05-15 00:00:00+00:00      Paris      FR             FR04014       no2   \n",
       "2019-05-15 01:00:00+00:00  Antwerpen      BE             BETR801       no2   \n",
       "2019-05-15 01:00:00+00:00      Paris      FR             FR04014       no2   \n",
       "2019-05-15 02:00:00+00:00     London      GB  London Westminster       no2   \n",
       "...                              ...     ...                 ...       ...   \n",
       "2019-06-01 21:00:00+00:00      Paris      FR             FR04014       no2   \n",
       "2019-06-01 22:00:00+00:00      Paris      FR             FR04014       no2   \n",
       "2019-06-01 22:00:00+00:00     London      GB  London Westminster       no2   \n",
       "2019-06-01 23:00:00+00:00     London      GB  London Westminster       no2   \n",
       "2019-06-01 23:00:00+00:00      Paris      FR             FR04014       no2   \n",
       "\n",
       "                           value   unit  hour  \n",
       "date                                           \n",
       "2019-05-15 00:00:00+00:00   22.0  µg/m³     0  \n",
       "2019-05-15 00:00:00+00:00   18.8  µg/m³     0  \n",
       "2019-05-15 01:00:00+00:00   25.5  µg/m³     1  \n",
       "2019-05-15 01:00:00+00:00   17.2  µg/m³     1  \n",
       "2019-05-15 02:00:00+00:00   22.0  µg/m³     2  \n",
       "...                          ...    ...   ...  \n",
       "2019-06-01 21:00:00+00:00   49.4  µg/m³    21  \n",
       "2019-06-01 22:00:00+00:00   48.1  µg/m³    22  \n",
       "2019-06-01 22:00:00+00:00   52.0  µg/m³    22  \n",
       "2019-06-01 23:00:00+00:00   52.0  µg/m³    23  \n",
       "2019-06-01 23:00:00+00:00   32.7  µg/m³    23  \n",
       "\n",
       "[916 rows x 7 columns]"
      ]
     },
     "execution_count": 228,
     "metadata": {},
     "output_type": "execute_result"
    }
   ],
   "source": [
    "df_dated['2019-05-15':'2019-06-01']"
   ]
  },
  {
   "cell_type": "code",
   "execution_count": 239,
   "id": "7af7fc77-dce0-4648-a588-a38dc6ac089c",
   "metadata": {},
   "outputs": [
    {
     "data": {
      "text/plain": [
       "<AxesSubplot:xlabel='date'>"
      ]
     },
     "execution_count": 239,
     "metadata": {},
     "output_type": "execute_result"
    },
    {
     "data": {
      "image/png": "[encoded data removed]",
      "text/plain": [
       "<Figure size 432x288 with 1 Axes>"
      ]
     },
     "metadata": {},
     "output_type": "display_data"
    }
   ],
   "source": [
    "# Plot two days\n",
    "df_dated['2019-05-30':'2019-05-31'].plot()"
   ]
  },
  {
   "cell_type": "code",
   "execution_count": 238,
   "id": "f7eece77-e726-4bd1-9493-40431140847e",
   "metadata": {},
   "outputs": [
    {
     "data": {
      "text/plain": [
       "<AxesSubplot:xlabel='date'>"
      ]
     },
     "execution_count": 238,
     "metadata": {},
     "output_type": "execute_result"
    },
    {
     "data": {
      "image/png": "[encoded data removed]",
      "text/plain": [
       "<Figure size 432x288 with 1 Axes>"
      ]
     },
     "metadata": {},
     "output_type": "display_data"
    }
   ],
   "source": [
    "# Plot one day\n",
    "df_dated['2019-05-30':'2019-05-30'].plot()"
   ]
  },
  {
   "cell_type": "code",
   "execution_count": 286,
   "id": "5570d6cb-b7ec-40c3-a978-7eeeba5fa673",
   "metadata": {},
   "outputs": [
    {
     "data": {
      "text/plain": [
       "<AxesSubplot:xlabel='date'>"
      ]
     },
     "execution_count": 286,
     "metadata": {},
     "output_type": "execute_result"
    },
    {
     "data": {
      "image/png": "[encoded data removed]",
      "text/plain": [
       "<Figure size 432x288 with 1 Axes>"
      ]
     },
     "metadata": {},
     "output_type": "display_data"
    }
   ],
   "source": [
    "# Aggregate over 6h using the mean \n",
    "df_dated.resample('1h').mean()['2019-05-30':'2019-05-30'].plot()"
   ]
  },
  {
   "cell_type": "markdown",
   "id": "646de873-a05c-4b84-a73a-3eabe3a5317e",
   "metadata": {},
   "source": [
    "Note how the date labels changed from the format *MM-dd HH* to the time *HH:mm*. Likely this is picked up from the `freq` attribute which is set when applying `resample`."
   ]
  },
  {
   "cell_type": "code",
   "execution_count": 298,
   "id": "adc48f30-7ae0-4990-9970-c8b07bb09ade",
   "metadata": {},
   "outputs": [
    {
     "data": {
      "text/plain": [
       "True"
      ]
     },
     "execution_count": 298,
     "metadata": {},
     "output_type": "execute_result"
    }
   ],
   "source": [
    "df_dated['2019-05-30':'2019-05-30'].index.freq is None"
   ]
  },
  {
   "cell_type": "code",
   "execution_count": 299,
   "id": "dc7f5474-9128-4957-a9c7-ab27ff80a97b",
   "metadata": {},
   "outputs": [
    {
     "data": {
      "text/plain": [
       "<Hour>"
      ]
     },
     "execution_count": 299,
     "metadata": {},
     "output_type": "execute_result"
    }
   ],
   "source": [
    "df_dated.resample('1h').mean()['2019-05-30':'2019-05-30'].index.freq"
   ]
  },
  {
   "cell_type": "code",
   "execution_count": 313,
   "id": "c8d825d5-d39b-4673-a5fb-b55c96178da9",
   "metadata": {},
   "outputs": [
    {
     "data": {
      "text/plain": [
       "<AxesSubplot:xlabel='date'>"
      ]
     },
     "execution_count": 313,
     "metadata": {},
     "output_type": "execute_result"
    },
    {
     "data": {
      "image/png": "[encoded data removed]",
      "text/plain": [
       "<Figure size 432x288 with 1 Axes>"
      ]
     },
     "metadata": {},
     "output_type": "display_data"
    }
   ],
   "source": [
    "df_dated.groupby('location').resample('D').mean().reset_index().pivot(index='date', columns='location', values='value').plot(style='-o')"
   ]
  },
  {
   "cell_type": "code",
   "execution_count": 316,
   "id": "8d6bf58b-c80c-496d-ba88-798428f07899",
   "metadata": {},
   "outputs": [
    {
     "data": {
      "text/html": [
       "<div>\n",
       "<style scoped>\n",
       "    .dataframe tbody tr th:only-of-type {\n",
       "        vertical-align: middle;\n",
       "    }\n",
       "\n",
       "    .dataframe tbody tr th {\n",
       "        vertical-align: top;\n",
       "    }\n",
       "\n",
       "    .dataframe thead th {\n",
       "        text-align: right;\n",
       "    }\n",
       "</style>\n",
       "<table border=\"1\" class=\"dataframe\">\n",
       "  <thead>\n",
       "    <tr style=\"text-align: right;\">\n",
       "      <th>location</th>\n",
       "      <th>BETR801</th>\n",
       "      <th>FR04014</th>\n",
       "      <th>London Westminster</th>\n",
       "    </tr>\n",
       "    <tr>\n",
       "      <th>date</th>\n",
       "      <th></th>\n",
       "      <th></th>\n",
       "      <th></th>\n",
       "    </tr>\n",
       "  </thead>\n",
       "  <tbody>\n",
       "    <tr>\n",
       "      <th>2019-05-07 01:00:00+00:00</th>\n",
       "      <td>50.5</td>\n",
       "      <td>25.0</td>\n",
       "      <td>23.0</td>\n",
       "    </tr>\n",
       "    <tr>\n",
       "      <th>2019-05-07 02:00:00+00:00</th>\n",
       "      <td>45.0</td>\n",
       "      <td>27.7</td>\n",
       "      <td>19.0</td>\n",
       "    </tr>\n",
       "    <tr>\n",
       "      <th>2019-05-07 03:00:00+00:00</th>\n",
       "      <td>NaN</td>\n",
       "      <td>50.4</td>\n",
       "      <td>19.0</td>\n",
       "    </tr>\n",
       "    <tr>\n",
       "      <th>2019-05-07 04:00:00+00:00</th>\n",
       "      <td>NaN</td>\n",
       "      <td>61.9</td>\n",
       "      <td>16.0</td>\n",
       "    </tr>\n",
       "    <tr>\n",
       "      <th>2019-05-07 05:00:00+00:00</th>\n",
       "      <td>NaN</td>\n",
       "      <td>72.4</td>\n",
       "      <td>NaN</td>\n",
       "    </tr>\n",
       "    <tr>\n",
       "      <th>...</th>\n",
       "      <td>...</td>\n",
       "      <td>...</td>\n",
       "      <td>...</td>\n",
       "    </tr>\n",
       "    <tr>\n",
       "      <th>2019-06-20 20:00:00+00:00</th>\n",
       "      <td>NaN</td>\n",
       "      <td>21.4</td>\n",
       "      <td>NaN</td>\n",
       "    </tr>\n",
       "    <tr>\n",
       "      <th>2019-06-20 21:00:00+00:00</th>\n",
       "      <td>NaN</td>\n",
       "      <td>24.9</td>\n",
       "      <td>NaN</td>\n",
       "    </tr>\n",
       "    <tr>\n",
       "      <th>2019-06-20 22:00:00+00:00</th>\n",
       "      <td>NaN</td>\n",
       "      <td>26.5</td>\n",
       "      <td>NaN</td>\n",
       "    </tr>\n",
       "    <tr>\n",
       "      <th>2019-06-20 23:00:00+00:00</th>\n",
       "      <td>NaN</td>\n",
       "      <td>21.8</td>\n",
       "      <td>NaN</td>\n",
       "    </tr>\n",
       "    <tr>\n",
       "      <th>2019-06-21 00:00:00+00:00</th>\n",
       "      <td>NaN</td>\n",
       "      <td>20.0</td>\n",
       "      <td>NaN</td>\n",
       "    </tr>\n",
       "  </tbody>\n",
       "</table>\n",
       "<p>1033 rows × 3 columns</p>\n",
       "</div>"
      ],
      "text/plain": [
       "location                   BETR801  FR04014  London Westminster\n",
       "date                                                           \n",
       "2019-05-07 01:00:00+00:00     50.5     25.0                23.0\n",
       "2019-05-07 02:00:00+00:00     45.0     27.7                19.0\n",
       "2019-05-07 03:00:00+00:00      NaN     50.4                19.0\n",
       "2019-05-07 04:00:00+00:00      NaN     61.9                16.0\n",
       "2019-05-07 05:00:00+00:00      NaN     72.4                 NaN\n",
       "...                            ...      ...                 ...\n",
       "2019-06-20 20:00:00+00:00      NaN     21.4                 NaN\n",
       "2019-06-20 21:00:00+00:00      NaN     24.9                 NaN\n",
       "2019-06-20 22:00:00+00:00      NaN     26.5                 NaN\n",
       "2019-06-20 23:00:00+00:00      NaN     21.8                 NaN\n",
       "2019-06-21 00:00:00+00:00      NaN     20.0                 NaN\n",
       "\n",
       "[1033 rows x 3 columns]"
      ]
     },
     "execution_count": 316,
     "metadata": {},
     "output_type": "execute_result"
    }
   ],
   "source": [
    "df.pivot(index='date', columns='location', values='value')"
   ]
  },
  {
   "cell_type": "markdown",
   "id": "0196e226-5ee8-49e5-be6f-4d8d7d89bbb0",
   "metadata": {},
   "source": [
    "For instance, to get the daily mean values per location, first \"align\" the the categorical `location` variable in time by making each category into a column (some timestamps will be `NaN`)."
   ]
  },
  {
   "cell_type": "code",
   "execution_count": 319,
   "id": "bae593a4-4d88-4734-936f-17a2b7f7c42e",
   "metadata": {},
   "outputs": [
    {
     "data": {
      "text/html": [
       "<div>\n",
       "<style scoped>\n",
       "    .dataframe tbody tr th:only-of-type {\n",
       "        vertical-align: middle;\n",
       "    }\n",
       "\n",
       "    .dataframe tbody tr th {\n",
       "        vertical-align: top;\n",
       "    }\n",
       "\n",
       "    .dataframe thead th {\n",
       "        text-align: right;\n",
       "    }\n",
       "</style>\n",
       "<table border=\"1\" class=\"dataframe\">\n",
       "  <thead>\n",
       "    <tr style=\"text-align: right;\">\n",
       "      <th>location</th>\n",
       "      <th>BETR801</th>\n",
       "      <th>FR04014</th>\n",
       "      <th>London Westminster</th>\n",
       "    </tr>\n",
       "    <tr>\n",
       "      <th>date</th>\n",
       "      <th></th>\n",
       "      <th></th>\n",
       "      <th></th>\n",
       "    </tr>\n",
       "  </thead>\n",
       "  <tbody>\n",
       "    <tr>\n",
       "      <th>2019-05-07 01:00:00+00:00</th>\n",
       "      <td>50.5</td>\n",
       "      <td>25.0</td>\n",
       "      <td>23.0</td>\n",
       "    </tr>\n",
       "    <tr>\n",
       "      <th>2019-05-07 02:00:00+00:00</th>\n",
       "      <td>45.0</td>\n",
       "      <td>27.7</td>\n",
       "      <td>19.0</td>\n",
       "    </tr>\n",
       "    <tr>\n",
       "      <th>2019-05-07 03:00:00+00:00</th>\n",
       "      <td>NaN</td>\n",
       "      <td>50.4</td>\n",
       "      <td>19.0</td>\n",
       "    </tr>\n",
       "    <tr>\n",
       "      <th>2019-05-07 04:00:00+00:00</th>\n",
       "      <td>NaN</td>\n",
       "      <td>61.9</td>\n",
       "      <td>16.0</td>\n",
       "    </tr>\n",
       "    <tr>\n",
       "      <th>2019-05-07 05:00:00+00:00</th>\n",
       "      <td>NaN</td>\n",
       "      <td>72.4</td>\n",
       "      <td>NaN</td>\n",
       "    </tr>\n",
       "    <tr>\n",
       "      <th>...</th>\n",
       "      <td>...</td>\n",
       "      <td>...</td>\n",
       "      <td>...</td>\n",
       "    </tr>\n",
       "    <tr>\n",
       "      <th>2019-06-20 20:00:00+00:00</th>\n",
       "      <td>NaN</td>\n",
       "      <td>21.4</td>\n",
       "      <td>NaN</td>\n",
       "    </tr>\n",
       "    <tr>\n",
       "      <th>2019-06-20 21:00:00+00:00</th>\n",
       "      <td>NaN</td>\n",
       "      <td>24.9</td>\n",
       "      <td>NaN</td>\n",
       "    </tr>\n",
       "    <tr>\n",
       "      <th>2019-06-20 22:00:00+00:00</th>\n",
       "      <td>NaN</td>\n",
       "      <td>26.5</td>\n",
       "      <td>NaN</td>\n",
       "    </tr>\n",
       "    <tr>\n",
       "      <th>2019-06-20 23:00:00+00:00</th>\n",
       "      <td>NaN</td>\n",
       "      <td>21.8</td>\n",
       "      <td>NaN</td>\n",
       "    </tr>\n",
       "    <tr>\n",
       "      <th>2019-06-21 00:00:00+00:00</th>\n",
       "      <td>NaN</td>\n",
       "      <td>20.0</td>\n",
       "      <td>NaN</td>\n",
       "    </tr>\n",
       "  </tbody>\n",
       "</table>\n",
       "<p>1033 rows × 3 columns</p>\n",
       "</div>"
      ],
      "text/plain": [
       "location                   BETR801  FR04014  London Westminster\n",
       "date                                                           \n",
       "2019-05-07 01:00:00+00:00     50.5     25.0                23.0\n",
       "2019-05-07 02:00:00+00:00     45.0     27.7                19.0\n",
       "2019-05-07 03:00:00+00:00      NaN     50.4                19.0\n",
       "2019-05-07 04:00:00+00:00      NaN     61.9                16.0\n",
       "2019-05-07 05:00:00+00:00      NaN     72.4                 NaN\n",
       "...                            ...      ...                 ...\n",
       "2019-06-20 20:00:00+00:00      NaN     21.4                 NaN\n",
       "2019-06-20 21:00:00+00:00      NaN     24.9                 NaN\n",
       "2019-06-20 22:00:00+00:00      NaN     26.5                 NaN\n",
       "2019-06-20 23:00:00+00:00      NaN     21.8                 NaN\n",
       "2019-06-21 00:00:00+00:00      NaN     20.0                 NaN\n",
       "\n",
       "[1033 rows x 3 columns]"
      ]
     },
     "execution_count": 319,
     "metadata": {},
     "output_type": "execute_result"
    }
   ],
   "source": [
    "df_dated_splitby_location = df_dated.pivot(columns='location', values='value')\n",
    "df_dated_splitby_location"
   ]
  },
  {
   "cell_type": "markdown",
   "id": "8e0df7ba-62e6-4188-a8ba-128b2bf8b240",
   "metadata": {},
   "source": [
    "Now calculate daily means and plot:"
   ]
  },
  {
   "cell_type": "code",
   "execution_count": 330,
   "id": "08049c34-528e-42a8-b448-100a0ce11704",
   "metadata": {},
   "outputs": [
    {
     "data": {
      "image/png": "[encoded data removed]",
      "text/plain": [
       "<Figure size 432x288 with 1 Axes>"
      ]
     },
     "metadata": {},
     "output_type": "display_data"
    }
   ],
   "source": [
    "ax = df_dated_splitby_location.resample('d').mean().plot(style='o-')"
   ]
  }
 ],
 "metadata": {
  "kernelspec": {
   "display_name": "Python 3 (ipykernel)",
   "language": "python",
   "name": "python3"
  },
  "language_info": {
   "codemirror_mode": {
    "name": "ipython",
    "version": 3
   },
   "file_extension": ".py",
   "mimetype": "text/x-python",
   "name": "python",
   "nbconvert_exporter": "python",
   "pygments_lexer": "ipython3",
   "version": "3.8.6"
  }
 },
 "nbformat": 4,
 "nbformat_minor": 5
}
